{
 "cells": [
  {
   "cell_type": "code",
   "execution_count": 1,
   "metadata": {},
   "outputs": [
    {
     "name": "stdout",
     "output_type": "stream",
     "text": [
      "0\n"
     ]
    }
   ],
   "source": [
    "x =-99999999999999\n",
    "\n",
    "x = str(x)\n",
    "nag = 0\n",
    "str_tmp = \"\"\n",
    "for val in range(len(x)):\n",
    "    \n",
    "    if x[len(x)-1-val] == \"-\":\n",
    "        nag = 1 \n",
    "    else:\n",
    "        str_tmp += x[len(x)-1-val]\n",
    "\n",
    "if nag == 0:\n",
    "    ans = int(str_tmp)\n",
    "else:\n",
    "    ans = -1*int(str_tmp)\n",
    "if abs(ans) >= 2**31:\n",
    "    ans = 0\n",
    "print(ans)\n",
    "    "
   ]
  },
  {
   "cell_type": "code",
   "execution_count": 16,
   "metadata": {},
   "outputs": [
    {
     "data": {
      "text/plain": [
       "2147483648"
      ]
     },
     "execution_count": 16,
     "metadata": {},
     "output_type": "execute_result"
    }
   ],
   "source": [
    "2**31"
   ]
  }
 ],
 "metadata": {
  "interpreter": {
   "hash": "aee8b7b246df8f9039afb4144a1f6fd8d2ca17a180786b69acc140d282b71a49"
  },
  "kernelspec": {
   "display_name": "Python 3.9.10 64-bit",
   "language": "python",
   "name": "python3"
  },
  "language_info": {
   "codemirror_mode": {
    "name": "ipython",
    "version": 3
   },
   "file_extension": ".py",
   "mimetype": "text/x-python",
   "name": "python",
   "nbconvert_exporter": "python",
   "pygments_lexer": "ipython3",
   "version": "3.9.10"
  },
  "orig_nbformat": 4
 },
 "nbformat": 4,
 "nbformat_minor": 2
}
