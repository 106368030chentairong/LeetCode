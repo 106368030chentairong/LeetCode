{
 "cells": [
  {
   "cell_type": "code",
   "execution_count": 6,
   "metadata": {},
   "outputs": [
    {
     "name": "stdout",
     "output_type": "stream",
     "text": [
      "0 8\n",
      "1 8\n",
      "1 7\n",
      "1 6\n",
      "1 5\n",
      "1 4\n",
      "1 3\n",
      "1 2\n",
      "49\n"
     ]
    }
   ],
   "source": [
    "nums = [1,8,6,2,5,4,8,3,7]\n",
    "\n",
    "max , start, end = 0, 0, len(nums)-1 \n",
    "\n",
    "while start < end:\n",
    "    \n",
    "    print(start, end)\n",
    "    width = end - start\n",
    "    hight = 0\n",
    "\n",
    "    if nums[start] < nums[end]:\n",
    "        high = nums[start]\n",
    "        start += 1\n",
    "    else:\n",
    "        high = nums[end]\n",
    "        end -= 1\n",
    "    \n",
    "    temp = width * high\n",
    "\n",
    "    if temp > max :\n",
    "        max = temp\n",
    "\n",
    "print(max)\n"
   ]
  }
 ],
 "metadata": {
  "interpreter": {
   "hash": "aee8b7b246df8f9039afb4144a1f6fd8d2ca17a180786b69acc140d282b71a49"
  },
  "kernelspec": {
   "display_name": "Python 3.9.10 64-bit",
   "language": "python",
   "name": "python3"
  },
  "language_info": {
   "codemirror_mode": {
    "name": "ipython",
    "version": 3
   },
   "file_extension": ".py",
   "mimetype": "text/x-python",
   "name": "python",
   "nbconvert_exporter": "python",
   "pygments_lexer": "ipython3",
   "version": "3.9.10"
  },
  "orig_nbformat": 4
 },
 "nbformat": 4,
 "nbformat_minor": 2
}
