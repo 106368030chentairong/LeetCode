{
 "cells": [
  {
   "cell_type": "code",
   "execution_count": 8,
   "metadata": {},
   "outputs": [
    {
     "name": "stdout",
     "output_type": "stream",
     "text": [
      "<__main__.TreeNode object at 0x1060013a0>\n"
     ]
    }
   ],
   "source": [
    "class TreeNode(object):\n",
    "    def __init__(self, val=0, left=None, right=None):\n",
    "        self.val=val\n",
    "        self.left=left\n",
    "        self.right=right\n",
    "\n",
    "node_list = [3,9,20,'null','null',15,7]\n",
    "\n",
    "l2 = TreeNode(val=9)\n",
    "r2 = TreeNode(val=20, left=TreeNode(15), right=TreeNode(7))\n",
    "root = TreeNode(val=3, left=l2, right=r2)\n",
    "\n",
    "print(root)\n",
    "\n"
   ]
  },
  {
   "cell_type": "code",
   "execution_count": 7,
   "metadata": {},
   "outputs": [
    {
     "name": "stdout",
     "output_type": "stream",
     "text": [
      "[3, 9, 20, 15, 7]\n"
     ]
    }
   ],
   "source": [
    "def preorder(treenode):\n",
    "    if not treenode:\n",
    "        return []\n",
    "    return [treenode.val]+preorder(treenode.left)+preorder(treenode.right)\n",
    "\n",
    "print(preorder(root))"
   ]
  },
  {
   "cell_type": "code",
   "execution_count": 10,
   "metadata": {},
   "outputs": [
    {
     "name": "stdout",
     "output_type": "stream",
     "text": [
      "3\n"
     ]
    }
   ],
   "source": [
    "class Solution(object):\n",
    "    def maxDepth(self, root):\n",
    "        \"\"\"\n",
    "        :type root: Optional[TreeNode]\n",
    "        :rtype: int\n",
    "        \"\"\"\n",
    "        if not root:\n",
    "            return 0\n",
    "        \n",
    "        l_node = self.maxDepth(root.left)\n",
    "        r_node = self.maxDepth(root.right)\n",
    "        return max(l_node, r_node)+1\n",
    "\n",
    "ans = Solution().maxDepth(root)\n",
    "print(ans)"
   ]
  }
 ],
 "metadata": {
  "kernelspec": {
   "display_name": "Python 3",
   "language": "python",
   "name": "python3"
  },
  "language_info": {
   "codemirror_mode": {
    "name": "ipython",
    "version": 3
   },
   "file_extension": ".py",
   "mimetype": "text/x-python",
   "name": "python",
   "nbconvert_exporter": "python",
   "pygments_lexer": "ipython3",
   "version": "3.8.19"
  }
 },
 "nbformat": 4,
 "nbformat_minor": 2
}
