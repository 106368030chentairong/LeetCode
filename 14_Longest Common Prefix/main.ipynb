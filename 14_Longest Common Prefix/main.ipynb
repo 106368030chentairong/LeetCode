{
 "cells": [
  {
   "cell_type": "code",
   "execution_count": 24,
   "metadata": {},
   "outputs": [
    {
     "name": "stdout",
     "output_type": "stream",
     "text": [
      "fl\n"
     ]
    }
   ],
   "source": [
    "# My ans\n",
    "strs = [\"flower\",\"flow\",\"flight\"]\n",
    "\n",
    "\n",
    "if len(strs) < 2 :\n",
    "    print(strs[0])\n",
    "str_tmp = \"\"\n",
    "\n",
    "str_tmp = \"\"\n",
    "\n",
    "for index, str in enumerate(strs[0]):\n",
    "    if index < len(strs[1]) and str == strs[1][index]:\n",
    "        #print(index , str)\n",
    "        str_tmp += str\n",
    "#print(str_tmp)\n",
    "\n",
    "mini_num = len(strs[0])\n",
    "for index_x, str_x in enumerate(strs):\n",
    "    str_tmp_2 = \"\"\n",
    "    for index_y, str_y in enumerate(str_x):\n",
    "        if index_y < len(str_tmp) and str_y == str_tmp[index_y]:\n",
    "            str_tmp_2 += str_y\n",
    "    if len(str_tmp_2) < mini_num:\n",
    "        mini_num = len(str_tmp_2)\n",
    "\n",
    "print(str_tmp_2[:mini_num])\n",
    "    \n",
    "\n",
    "\n"
   ]
  }
 ],
 "metadata": {
  "interpreter": {
   "hash": "aee8b7b246df8f9039afb4144a1f6fd8d2ca17a180786b69acc140d282b71a49"
  },
  "kernelspec": {
   "display_name": "Python 3.9.10 64-bit",
   "language": "python",
   "name": "python3"
  },
  "language_info": {
   "codemirror_mode": {
    "name": "ipython",
    "version": 3
   },
   "file_extension": ".py",
   "mimetype": "text/x-python",
   "name": "python",
   "nbconvert_exporter": "python",
   "pygments_lexer": "ipython3",
   "version": "3.9.10"
  },
  "orig_nbformat": 4
 },
 "nbformat": 4,
 "nbformat_minor": 2
}
