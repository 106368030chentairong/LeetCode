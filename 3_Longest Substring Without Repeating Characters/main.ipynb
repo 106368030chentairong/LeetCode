{
 "cells": [
  {
   "cell_type": "code",
   "execution_count": 14,
   "metadata": {},
   "outputs": [
    {
     "name": "stdout",
     "output_type": "stream",
     "text": [
      "0 p 0\n",
      "p {} 0\n",
      "0 1 1\n",
      "__________\n",
      "1 w 1\n",
      "w {'p': 0} 0\n",
      "1 2 2\n",
      "__________\n",
      "2 w 2\n",
      "w {'p': 0, 'w': 1} 0\n",
      "__________\n",
      "3 k 2\n",
      "k {'p': 0, 'w': 2} 2\n",
      "2 2 2\n",
      "__________\n",
      "4 e 2\n",
      "e {'p': 0, 'w': 2, 'k': 3} 2\n",
      "2 3 3\n",
      "__________\n",
      "5 w 3\n",
      "w {'p': 0, 'w': 2, 'k': 3, 'e': 4} 2\n",
      "__________\n",
      "3\n"
     ]
    }
   ],
   "source": [
    "# initial the variable\n",
    "s = \"pwwkew\"\n",
    "seen = {}\n",
    "start, res = 0, 0\n",
    "# use enumerate to traverse the string\n",
    "for i, c in enumerate(s):\n",
    "    print(i, c, res)\n",
    "    # renew the start position\n",
    "    print(c, seen, start)\n",
    "    if c in seen and seen[c] >= start:\n",
    "        start = seen[c]+1\n",
    "    else:\n",
    "        print(res, i-start+1, max(res, i-start+1))\n",
    "        res = max(res, i-start+1)\n",
    "    seen[c] = i\n",
    "    print(\"_\"*10)\n",
    "\n",
    "print(res)"
   ]
  },
  {
   "cell_type": "code",
   "execution_count": 32,
   "metadata": {},
   "outputs": [
    {
     "name": "stdout",
     "output_type": "stream",
     "text": [
      "5 3\n",
      "5\n"
     ]
    }
   ],
   "source": [
    "#https://yuihuang.com/lc-3/\n",
    "\n",
    "s = \"nfpdmpi\"\n",
    "\n",
    "l = 0\n",
    "\n",
    "mx = 0\n",
    "\n",
    "sq = {}\n",
    "\n",
    "for index in range(len(s)):\n",
    "    if sq.get(s[index]) != None :\n",
    "        l = max(l,sq.get(s[index])+1)\n",
    "        print(index, l)\n",
    "    if (index - l + 1 > mx):\n",
    "        mx = index - l + 1\n",
    "\n",
    "    sq.update({s[index]:index})\n",
    "\n",
    "print(mx)\n",
    "        \n",
    "\n",
    "    "
   ]
  }
 ],
 "metadata": {
  "interpreter": {
   "hash": "aee8b7b246df8f9039afb4144a1f6fd8d2ca17a180786b69acc140d282b71a49"
  },
  "kernelspec": {
   "display_name": "Python 3.9.10 64-bit",
   "language": "python",
   "name": "python3"
  },
  "language_info": {
   "codemirror_mode": {
    "name": "ipython",
    "version": 3
   },
   "file_extension": ".py",
   "mimetype": "text/x-python",
   "name": "python",
   "nbconvert_exporter": "python",
   "pygments_lexer": "ipython3",
   "version": "3.9.10"
  },
  "orig_nbformat": 4
 },
 "nbformat": 4,
 "nbformat_minor": 2
}
