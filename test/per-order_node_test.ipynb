{
 "cells": [
  {
   "cell_type": "code",
   "execution_count": null,
   "metadata": {},
   "outputs": [],
   "source": [
    "class TreeNode :\n",
    "    def __init__(self, val = 0,right = None,left = None):\n",
    "        self.val = val\n",
    "        self.right = right\n",
    "        self.left = left\n",
    "\n",
    "def list2tree(node_list):\n",
    "    if not node_list:\n",
    "        return None\n",
    "\n",
    "    #nodes = [TreeNode(val) if val is not None else None for val in node_list]\n",
    "    nodes = []\n",
    "    for val in node_list: #先把每個list val 轉換成node\n",
    "        if val is not None:\n",
    "            nodes.append(TreeNode(val))\n",
    "        else:\n",
    "            nodes.append(None)\n",
    "\n",
    "    kids = nodes[::-1] # 反轉\n",
    "    root = kids.pop() #pop 出反轉前的第一個數值作為root\n",
    "\n",
    "    for node in nodes:\n",
    "        if node:\n",
    "            if kids:\n",
    "                node.left = kids.pop()\n",
    "                node.right = kids.pop()\n",
    "    return root\n",
    "\n",
    "node_list = [1,2,3,None,5,6,7]\n",
    "tree_root = list2tree(node_list)\n"
   ]
  },
  {
   "cell_type": "code",
   "execution_count": 15,
   "metadata": {},
   "outputs": [
    {
     "name": "stdout",
     "output_type": "stream",
     "text": [
      "1\n",
      "2\n",
      "5\n",
      "3\n",
      "6\n",
      "7\n",
      "[1, 2, 5, 3, 6, 7]\n"
     ]
    }
   ],
   "source": [
    "def pre_order(Treenode):\n",
    "    if Treenode :\n",
    "        if Treenode.val != None:\n",
    "            print(Treenode.val)\n",
    "        pre_order(Treenode.left)\n",
    "        pre_order(Treenode.right)\n",
    "pre_order(tree_root)\n",
    "\n",
    "def perorder_traversal(Treenode):\n",
    "    if not Treenode:\n",
    "        return []\n",
    "    result = []\n",
    "    stack = [Treenode]\n",
    "\n",
    "    while stack:\n",
    "        node = stack.pop()\n",
    "        if node:\n",
    "            result.append(node.val)\n",
    "            stack.append(node.right)\n",
    "            stack.append(node.left)\n",
    "    return result        \n",
    "print(perorder_traversal(tree_root))"
   ]
  }
 ],
 "metadata": {
  "kernelspec": {
   "display_name": "Python 3",
   "language": "python",
   "name": "python3"
  },
  "language_info": {
   "codemirror_mode": {
    "name": "ipython",
    "version": 3
   },
   "file_extension": ".py",
   "mimetype": "text/x-python",
   "name": "python",
   "nbconvert_exporter": "python",
   "pygments_lexer": "ipython3",
   "version": "3.8.19"
  }
 },
 "nbformat": 4,
 "nbformat_minor": 2
}
