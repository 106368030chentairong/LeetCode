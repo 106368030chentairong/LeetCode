{
 "cells": [
  {
   "cell_type": "code",
   "execution_count": 1,
   "metadata": {},
   "outputs": [],
   "source": [
    "class TreeNode:\n",
    "    def __init__(self, val, left = None, right = None):\n",
    "        self.val = val\n",
    "        self.left = left\n",
    "        self.right = right\n",
    "\n",
    "def insert(temp,data):\n",
    "    que = []\n",
    "    que.append(temp)\n",
    "    while (len(que)):\n",
    "        temp = que[0]\n",
    "        que.pop(0)\n",
    "        if (not temp.left):\n",
    "            temp.left = TreeNode(data)\n",
    "            break\n",
    "        else:\n",
    "            que.append(temp.left)\n",
    "        if (not temp.right):\n",
    "            temp.right = TreeNode(data)\n",
    "            break\n",
    "        else:\n",
    "            que.append(temp.right)\n",
    "\n",
    "def make_tree(elements):\n",
    "    Tree = TreeNode(elements[0])\n",
    "    for element in elements[1:]:\n",
    "        insert(Tree, element)\n",
    "    return Tree\n",
    "\n",
    "# inorder tree\n",
    "#          10\n",
    "#       5     15\n",
    "#     2   7     20\n",
    "\n",
    "root = make_tree([10,5,15,2,7,None,20])\n",
    "#root = make_tree([3,2,5,1,None,4,6])"
   ]
  },
  {
   "cell_type": "code",
   "execution_count": 2,
   "metadata": {},
   "outputs": [
    {
     "name": "stdout",
     "output_type": "stream",
     "text": [
      "[<__main__.TreeNode object at 0x10fffc670>, <__main__.TreeNode object at 0x10fffcd60>, <__main__.TreeNode object at 0x1100373a0>]\n",
      "2\n",
      "[<__main__.TreeNode object at 0x10fffc670>, <__main__.TreeNode object at 0x10fffcd60>]\n",
      "5\n",
      "[<__main__.TreeNode object at 0x10fffc670>, <__main__.TreeNode object at 0x110037400>]\n",
      "7\n",
      "[<__main__.TreeNode object at 0x10fffc670>]\n",
      "10\n",
      "[<__main__.TreeNode object at 0x10fffc880>, <__main__.TreeNode object at 0x110037460>]\n",
      "[<__main__.TreeNode object at 0x10fffc880>]\n",
      "15\n",
      "[<__main__.TreeNode object at 0x1100374c0>]\n",
      "20\n",
      "[2, 5, 7, 10, 15, 20]\n"
     ]
    }
   ],
   "source": [
    "inorder = []\n",
    "stack = []\n",
    "ans = []\n",
    "\n",
    "def letmost(node):\n",
    "    while node != None:\n",
    "        stack.append(node)\n",
    "        node = node.left\n",
    "\n",
    "def relist(stack):\n",
    "    if stack != []:\n",
    "        print(stack)\n",
    "        inorder = stack.pop()\n",
    "        if inorder.val != None:\n",
    "            print(inorder.val)\n",
    "            ans.append(inorder.val)\n",
    "        if inorder.right != None:\n",
    "            letmost(inorder.right)\n",
    "        else:\n",
    "            relist(stack)\n",
    "\n",
    "letmost(root)\n",
    "while stack != []:\n",
    "    relist(stack)\n",
    "\n",
    "print(ans)\n"
   ]
  }
 ],
 "metadata": {
  "kernelspec": {
   "display_name": "Python 3.9.10 64-bit",
   "language": "python",
   "name": "python3"
  },
  "language_info": {
   "codemirror_mode": {
    "name": "ipython",
    "version": 3
   },
   "file_extension": ".py",
   "mimetype": "text/x-python",
   "name": "python",
   "nbconvert_exporter": "python",
   "pygments_lexer": "ipython3",
   "version": "3.9.13"
  },
  "orig_nbformat": 4,
  "vscode": {
   "interpreter": {
    "hash": "aee8b7b246df8f9039afb4144a1f6fd8d2ca17a180786b69acc140d282b71a49"
   }
  }
 },
 "nbformat": 4,
 "nbformat_minor": 2
}
