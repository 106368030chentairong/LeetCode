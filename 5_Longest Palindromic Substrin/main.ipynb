{
 "cells": [
  {
   "cell_type": "code",
   "execution_count": 11,
   "metadata": {},
   "outputs": [
    {
     "name": "stdout",
     "output_type": "stream",
     "text": [
      "a a 3 aaca\n",
      "a a 7 aacabdka\n",
      "a a 9 aacabdkaca\n",
      "a a 10 aacabdkacaa\n"
     ]
    }
   ],
   "source": [
    "s = \"aacabdkacaa\"\n",
    "# aca\n",
    "max = 0\n",
    "ans = \"\"\n",
    "\n",
    "if len(s) == 1:\n",
    "    print(s)\n",
    "\n",
    "for index_x in range(len(s)) :\n",
    "    for index_y in range(index_x+1, len(s)):  \n",
    "        if s[index_x] == s[index_y]:\n",
    "            if index_y-index_x > max:\n",
    "                max = index_y-index_x\n",
    "                ans = s[index_x:index_y+1]\n",
    "                print(s[index_x], s[index_y], index_y-index_x, ans)\n",
    "\n"
   ]
  },
  {
   "cell_type": "code",
   "execution_count": null,
   "metadata": {},
   "outputs": [],
   "source": []
  }
 ],
 "metadata": {
  "kernelspec": {
   "display_name": "Python 3.9.10 64-bit",
   "language": "python",
   "name": "python3"
  },
  "language_info": {
   "codemirror_mode": {
    "name": "ipython",
    "version": 3
   },
   "file_extension": ".py",
   "mimetype": "text/x-python",
   "name": "python",
   "nbconvert_exporter": "python",
   "pygments_lexer": "ipython3",
   "version": "3.9.10"
  },
  "orig_nbformat": 4,
  "vscode": {
   "interpreter": {
    "hash": "aee8b7b246df8f9039afb4144a1f6fd8d2ca17a180786b69acc140d282b71a49"
   }
  }
 },
 "nbformat": 4,
 "nbformat_minor": 2
}
