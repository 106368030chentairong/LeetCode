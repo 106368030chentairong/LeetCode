{
 "cells": [
  {
   "cell_type": "code",
   "execution_count": 33,
   "metadata": {},
   "outputs": [
    {
     "name": "stdout",
     "output_type": "stream",
     "text": [
      "4\n"
     ]
    }
   ],
   "source": [
    "nums = [-1,0,3,5,9,12]\n",
    "target = 9\n",
    "\n",
    "def search(nums, target):\n",
    "    lef, rig = 0, len(nums) - 1\n",
    "    pivot = lef + (rig-lef) // 2\n",
    "\n",
    "    while lef <= rig:\n",
    "        if nums[pivot] == target:\n",
    "            return pivot\n",
    "        if nums[pivot] > target :\n",
    "            rig = pivot -1 \n",
    "        if nums[pivot] < target :\n",
    "            lef = pivot +1\n",
    "        pivot = lef + (rig-lef) // 2\n",
    "    \n",
    "    return -1\n",
    "\n",
    "print(search(nums, target))\n"
   ]
  },
  {
   "cell_type": "code",
   "execution_count": 24,
   "metadata": {},
   "outputs": [
    {
     "data": {
      "text/plain": [
       "[5, 9, 12]"
      ]
     },
     "execution_count": 24,
     "metadata": {},
     "output_type": "execute_result"
    }
   ],
   "source": [
    "nums = [-1,0,3,5,9,12]\n",
    "nums[3:]"
   ]
  }
 ],
 "metadata": {
  "interpreter": {
   "hash": "aee8b7b246df8f9039afb4144a1f6fd8d2ca17a180786b69acc140d282b71a49"
  },
  "kernelspec": {
   "display_name": "Python 3.9.10 64-bit",
   "language": "python",
   "name": "python3"
  },
  "language_info": {
   "codemirror_mode": {
    "name": "ipython",
    "version": 3
   },
   "file_extension": ".py",
   "mimetype": "text/x-python",
   "name": "python",
   "nbconvert_exporter": "python",
   "pygments_lexer": "ipython3",
   "version": "3.7.9"
  },
  "orig_nbformat": 4
 },
 "nbformat": 4,
 "nbformat_minor": 2
}
