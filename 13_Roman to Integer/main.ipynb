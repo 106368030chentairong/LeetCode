{
 "cells": [
  {
   "cell_type": "code",
   "execution_count": 9,
   "metadata": {},
   "outputs": [
    {
     "name": "stdout",
     "output_type": "stream",
     "text": [
      "1000\n",
      "900\n",
      "1000\n",
      "90\n",
      "100\n",
      "4\n",
      "3094\n"
     ]
    }
   ],
   "source": [
    "maps = {\"I\":1, \"V\":5, \"X\":10, \"L\":50, \"C\":100, \"D\":500, \"M\":1000}\n",
    "subs = {\"IV\":4, \"IX\":9, \"XL\":40, \"XC\":90, \"CD\":400, \"CM\":900}\n",
    "\n",
    "s = \"MCMXCIV\"\n",
    "num = 0\n",
    "for index, value in enumerate(s):\n",
    "    try:\n",
    "        if value+s[index+1] in subs:\n",
    "            num += (subs[value+s[index+1]])\n",
    "            print((subs[value+s[index+1]]))\n",
    "        else:\n",
    "            num += (maps[value])\n",
    "            print((maps[value]))\n",
    "    except Exception:\n",
    "        pass\n",
    "print(num)"
   ]
  },
  {
   "cell_type": "code",
   "execution_count": 55,
   "metadata": {},
   "outputs": [
    {
     "name": "stdout",
     "output_type": "stream",
     "text": [
      "7\n",
      "IV\n",
      "1 5\n",
      "CI\n",
      "100 1\n",
      "XC\n",
      "10 100\n",
      "MX\n",
      "1000 10\n",
      "CM\n",
      "100 1000\n",
      "MC\n",
      "1000 100\n",
      "3094\n"
     ]
    }
   ],
   "source": [
    "dir_tmp = {\"I\":1, \"V\":5, \"X\":10, \"L\":50, \"C\":100, \"D\":500, \"M\":1000}\n",
    "s = \"MCMXCIV\"\n",
    "\n",
    "ans = 0\n",
    "str_len = int(len(s))\n",
    "print(str_len)\n",
    "for index in range(str_len):\n",
    "    if index <= str_len-2:\n",
    "        data = s[str_len-index-2 : str_len-index]\n",
    "        print(data)\n",
    "        print(dir_tmp[data[0]], dir_tmp[data[1]])\n",
    "        if dir_tmp[data[0]] < dir_tmp[data[1]]:\n",
    "            ans += dir_tmp[data[1]]-dir_tmp[data[0]]\n",
    "        else:\n",
    "            ans += dir_tmp[data[0]]\n",
    "\n",
    "    '''\n",
    "    if value in list(dir_tmp.keys()):\n",
    "        print(dir_tmp[value])\n",
    "        ans += dir_tmp[value]\n",
    "    '''\n",
    "print(ans)\n"
   ]
  },
  {
   "cell_type": "code",
   "execution_count": 75,
   "metadata": {},
   "outputs": [
    {
     "name": "stdout",
     "output_type": "stream",
     "text": [
      "1 1\n",
      "1 2\n",
      "1 3\n"
     ]
    }
   ],
   "source": [
    "# ans 1-2\n",
    "eq = {\"I\": 1, \"V\": 5, \"X\": 10, \"L\": 50, \"C\": 100, \"D\": 500, \"M\": 1000}\n",
    "Output = 0\n",
    "s = \"III\"\n",
    "\n",
    "for i in s[::-1]:\n",
    "    if 4* eq[i] > Output:\n",
    "        Output += eq[i]\n",
    "    else:\n",
    "        Output -= eq[i]\n",
    "    print(eq[i], Output)\n",
    "\n"
   ]
  },
  {
   "cell_type": "code",
   "execution_count": 11,
   "metadata": {},
   "outputs": [
    {
     "name": "stdout",
     "output_type": "stream",
     "text": [
      "1994\n"
     ]
    }
   ],
   "source": [
    "# ans 1-2\n",
    "maps = {\"I\":1, \"V\":5, \"X\":10, \"L\":50, \"C\":100, \"D\":500, \"M\":1000}\n",
    "s = \"MCMXCIV\"\n",
    "ans = 0\n",
    "\n",
    "for i in range(len(s)):\n",
    "    #print(i)\n",
    "    if i != len(s)-1 and maps[s[i]] < maps[s[i+1]]:\n",
    "        #print(maps[s[i]])\n",
    "        ans -= maps[s[i]]\n",
    "    else:\n",
    "        #print(maps[s[i]])\n",
    "        ans += maps[s[i]]\n",
    "\n",
    "print(ans)\n",
    "    "
   ]
  }
 ],
 "metadata": {
  "interpreter": {
   "hash": "aee8b7b246df8f9039afb4144a1f6fd8d2ca17a180786b69acc140d282b71a49"
  },
  "kernelspec": {
   "display_name": "Python 3.9.10 64-bit",
   "language": "python",
   "name": "python3"
  },
  "language_info": {
   "codemirror_mode": {
    "name": "ipython",
    "version": 3
   },
   "file_extension": ".py",
   "mimetype": "text/x-python",
   "name": "python",
   "nbconvert_exporter": "python",
   "pygments_lexer": "ipython3",
   "version": "3.9.10"
  },
  "orig_nbformat": 4
 },
 "nbformat": 4,
 "nbformat_minor": 2
}
