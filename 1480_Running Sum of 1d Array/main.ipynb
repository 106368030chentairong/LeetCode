{
 "cells": [
  {
   "cell_type": "code",
   "execution_count": 4,
   "metadata": {},
   "outputs": [],
   "source": [
    "nums = [3,10,16,27,4]"
   ]
  },
  {
   "cell_type": "code",
   "execution_count": 3,
   "metadata": {},
   "outputs": [
    {
     "name": "stdout",
     "output_type": "stream",
     "text": [
      "1 13\n",
      "2 29\n",
      "3 56\n",
      "4 60\n"
     ]
    }
   ],
   "source": [
    "results = []\n",
    "results.append(nums[0])\n",
    "\n",
    "for idx in range(1,len(nums)):\n",
    "    results.append(nums[idx]+results[idx-1])\n",
    "    print(idx, results[idx])\n",
    "    "
   ]
  },
  {
   "cell_type": "code",
   "execution_count": null,
   "metadata": {},
   "outputs": [],
   "source": []
  },
  {
   "cell_type": "code",
   "execution_count": 6,
   "metadata": {},
   "outputs": [
    {
     "name": "stdout",
     "output_type": "stream",
     "text": [
      "1 [3, 16, 29, 56, 60]\n",
      "2 [3, 16, 45, 56, 60]\n",
      "3 [3, 16, 45, 101, 60]\n",
      "4 [3, 16, 45, 101, 161]\n",
      "[3, 16, 45, 101, 161]\n"
     ]
    }
   ],
   "source": [
    "for idx in range(1,len(nums)):\n",
    "    nums[idx] += nums[idx-1]\n",
    "    print(idx, nums)\n",
    "print(nums)"
   ]
  },
  {
   "cell_type": "code",
   "execution_count": null,
   "metadata": {},
   "outputs": [],
   "source": []
  }
 ],
 "metadata": {
  "kernelspec": {
   "display_name": "Python 3",
   "language": "python",
   "name": "python3"
  },
  "language_info": {
   "codemirror_mode": {
    "name": "ipython",
    "version": 3
   },
   "file_extension": ".py",
   "mimetype": "text/x-python",
   "name": "python",
   "nbconvert_exporter": "python",
   "pygments_lexer": "ipython3",
   "version": "3.7.9"
  },
  "orig_nbformat": 4
 },
 "nbformat": 4,
 "nbformat_minor": 2
}
