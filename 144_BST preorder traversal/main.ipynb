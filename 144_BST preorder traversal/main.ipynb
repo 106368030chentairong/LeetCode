{
 "cells": [
  {
   "cell_type": "code",
   "execution_count": 87,
   "metadata": {},
   "outputs": [],
   "source": [
    "class TreeNode:\n",
    "    def __init__(self, val, left = None, right = None):\n",
    "        self.val = val\n",
    "        self.left = left\n",
    "        self.right = right\n",
    "\n",
    "def insert(temp,data):\n",
    "    que = []\n",
    "    que.append(temp)\n",
    "    while (len(que)):\n",
    "        temp = que[0]\n",
    "        que.pop(0)\n",
    "        if (not temp.left):\n",
    "            temp.left = TreeNode(data)\n",
    "            break\n",
    "        else:\n",
    "            que.append(temp.left)\n",
    "        if (not temp.right):\n",
    "            temp.right = TreeNode(data)\n",
    "            break\n",
    "        else:\n",
    "            que.append(temp.right)\n",
    "\n",
    "def make_tree(elements):\n",
    "    Tree = TreeNode(elements[0])\n",
    "    for element in elements[1:]:\n",
    "        insert(Tree, element)\n",
    "    return Tree\n",
    "\n",
    "# inorder tree\n",
    "#          10\n",
    "#       5     15\n",
    "#     2   7     20\n",
    "\n",
    "root = make_tree([10,5,15,2,7,None,20])\n",
    "#root = make_tree([3,2,5,1,None,4,6])"
   ]
  },
  {
   "cell_type": "code",
   "execution_count": 84,
   "metadata": {},
   "outputs": [
    {
     "name": "stdout",
     "output_type": "stream",
     "text": [
      "10\n",
      "5\n",
      "2\n",
      "7\n",
      "15\n",
      "20\n",
      "[<__main__.TreeNode object at 0x111bbc430>, <__main__.TreeNode object at 0x111bbc9d0>, <__main__.TreeNode object at 0x111a57d30>, <__main__.TreeNode object at 0x111a57b50>, <__main__.TreeNode object at 0x111a57bb0>, <__main__.TreeNode object at 0x110e37670>]\n"
     ]
    }
   ],
   "source": [
    "preorder = []\n",
    "stack = []\n",
    "ans = []\n",
    "\n",
    "def letmost(node):\n",
    "    while node != None:\n",
    "        if node.val != None:\n",
    "            stack.append(node)\n",
    "            preorder.append(node)\n",
    "            #print(stack.val)\n",
    "            print(node.val)\n",
    "        node = node.left\n",
    "\n",
    "def relist():\n",
    "    if stack != [] :\n",
    "        tmp = stack.pop()\n",
    "        #print(tmp.val)\n",
    "        if tmp.right != None:\n",
    "            letmost(tmp.right)\n",
    "        else:\n",
    "            relist()\n",
    "\n",
    "letmost(root)\n",
    "while stack != []:\n",
    "    relist()\n",
    "\n"
   ]
  },
  {
   "cell_type": "code",
   "execution_count": null,
   "metadata": {},
   "outputs": [
    {
     "name": "stdout",
     "output_type": "stream",
     "text": [
      "[10, 5, 2, 7, 15, None, 20]\n"
     ]
    }
   ],
   "source": [
    "class Solution(object):\n",
    "    def preorderTraversal(self, root):\n",
    "        \"\"\"\n",
    "        :type root: TreeNode\n",
    "        :rtype: List[int]\n",
    "        \"\"\"\n",
    "        self.preorder = []\n",
    "        self.stack = []\n",
    "        self.ans = []\n",
    "        \n",
    "        self.letmost(root)\n",
    "        while self.stack != []:\n",
    "            self.relist()\n",
    "        return(self.preorder)\n",
    "\n",
    "    def letmost(self, node):\n",
    "        while node != None:\n",
    "            if node.val != 'null':\n",
    "                self.stack.append(node)\n",
    "                self.preorder.append(node.val)\n",
    "            node = node.left\n",
    "\n",
    "    def relist(self):\n",
    "        if self.stack != [] :\n",
    "            tmp = self.stack.pop()\n",
    "            if tmp.right != None:\n",
    "                self.letmost(tmp.right)\n",
    "            else:\n",
    "                self.relist()\n",
    "\n",
    "model = Solution()\n",
    "model.preorderTraversal(root)\n",
    "print(model.preorder)\n"
   ]
  }
 ],
 "metadata": {
  "kernelspec": {
   "display_name": "Python 3.9.10 64-bit",
   "language": "python",
   "name": "python3"
  },
  "language_info": {
   "codemirror_mode": {
    "name": "ipython",
    "version": 3
   },
   "file_extension": ".py",
   "mimetype": "text/x-python",
   "name": "python",
   "nbconvert_exporter": "python",
   "pygments_lexer": "ipython3",
   "version": "3.9.13"
  },
  "orig_nbformat": 4,
  "vscode": {
   "interpreter": {
    "hash": "aee8b7b246df8f9039afb4144a1f6fd8d2ca17a180786b69acc140d282b71a49"
   }
  }
 },
 "nbformat": 4,
 "nbformat_minor": 2
}
