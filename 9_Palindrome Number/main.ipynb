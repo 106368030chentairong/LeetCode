{
 "cells": [
  {
   "cell_type": "code",
   "execution_count": 2,
   "metadata": {},
   "outputs": [
    {
     "name": "stdout",
     "output_type": "stream",
     "text": [
      "121- -121\n",
      "False\n"
     ]
    }
   ],
   "source": [
    "# main answer\n",
    "x = -121\n",
    "str_tmp = \"\"\n",
    "for value in reversed(str(x)):\n",
    "    str_tmp = str_tmp+value\n",
    "print(str_tmp, str(x))\n",
    "if str_tmp == str(x):\n",
    "    print(True)\n",
    "else:\n",
    "    print(False)"
   ]
  },
  {
   "cell_type": "code",
   "execution_count": 1,
   "metadata": {},
   "outputs": [
    {
     "name": "stdout",
     "output_type": "stream",
     "text": [
      "0\n"
     ]
    }
   ],
   "source": [
    "# 1-1 answer\n",
    "x = -123321\n",
    "reversed_tmp = 0\n",
    "while x > 0:\n",
    "    reversed_tmp = reversed_tmp*10 + (x % 10)\n",
    "    x = int(x/10)\n",
    "print(reversed_tmp)"
   ]
  },
  {
   "cell_type": "code",
   "execution_count": 35,
   "metadata": {},
   "outputs": [
    {
     "name": "stdout",
     "output_type": "stream",
     "text": [
      "123321 0\n",
      "12332 1\n",
      "1233 12\n",
      "123 123\n"
     ]
    }
   ],
   "source": [
    "# 1-2 answer\n",
    "x = 123321\n",
    "reversed_tmp = 0\n",
    "while x > reversed_tmp:\n",
    "    print(x, reversed_tmp)\n",
    "    reversed_tmp = reversed_tmp *10 + (x % 10)\n",
    "    x = x//10\n",
    "print(x ,reversed_tmp)"
   ]
  }
 ],
 "metadata": {
  "kernelspec": {
   "display_name": "Python 3",
   "language": "python",
   "name": "python3"
  },
  "language_info": {
   "codemirror_mode": {
    "name": "ipython",
    "version": 3
   },
   "file_extension": ".py",
   "mimetype": "text/x-python",
   "name": "python",
   "nbconvert_exporter": "python",
   "pygments_lexer": "ipython3",
   "version": "3.8.19"
  },
  "orig_nbformat": 4
 },
 "nbformat": 4,
 "nbformat_minor": 2
}
