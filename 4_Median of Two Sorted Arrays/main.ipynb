{
 "cells": [
  {
   "cell_type": "code",
   "execution_count": 69,
   "metadata": {},
   "outputs": [
    {
     "name": "stdout",
     "output_type": "stream",
     "text": [
      "2.0\n",
      "2\n"
     ]
    }
   ],
   "source": [
    "nums1 = [1,3]\n",
    "nums2 = [2]\n",
    "\n",
    "def findMedianSortedArrays(nums1, nums2):\n",
    "    \"\"\"\n",
    "    :type nums1: List[int]\n",
    "    :type nums2: List[int]\n",
    "    :rtype: float\n",
    "    \"\"\"\n",
    "    if len(nums1) == 0 :\n",
    "        if len(nums2) == 1:\n",
    "            return nums2[0]\n",
    "        else:\n",
    "            num = 0\n",
    "            for val in nums2:\n",
    "                num += val\n",
    "            return num/2.0\n",
    "    elif len(nums2) == 0 :\n",
    "        if len(nums1) == 1:\n",
    "            return nums1[0]\n",
    "        else:\n",
    "            num = 0\n",
    "            for val in nums1:\n",
    "                num += val\n",
    "            return num/2.0\n",
    "    else:\n",
    "        midA = int((len(nums1)/2)//1)\n",
    "        midB = int((len(nums2)/2)//1)\n",
    "\n",
    "        while nums1[midA] < nums2[midB-1]:\n",
    "            if nums1[midA] <= nums2[midB-1]:\n",
    "                break\n",
    "            midA += 1\n",
    "\n",
    "        while nums1[midA-1] > nums2[midB]:\n",
    "            if nums1[midA-1] >= nums2[midB]:\n",
    "                break\n",
    "            midA -= 1\n",
    "        print(((max(nums1[midA-1], nums2[midB-1]) + min(nums1[midA], nums2[midB]))/2))\n",
    "        if ((len(nums1)+len(nums2)) % 2 ) != 0 :\n",
    "            return max(nums1[midA-1], nums2[midB-1])\n",
    "        else:\n",
    "            return ((max(nums1[midA-1], nums2[midB-1]) + min(nums1[midA], nums2[midB]))/2.0)\n",
    "\n",
    "ans = findMedianSortedArrays(nums1, nums2)\n",
    "print(ans)\n",
    "        "
   ]
  },
  {
   "cell_type": "code",
   "execution_count": 91,
   "metadata": {},
   "outputs": [
    {
     "name": "stdout",
     "output_type": "stream",
     "text": [
      "1 1\n",
      "0.0\n"
     ]
    }
   ],
   "source": [
    "nums1 = [0,0]\n",
    "nums2 = [0,0]\n",
    "\n",
    "midA = len(nums2)-1\n",
    "midB = len(nums2)-1\n",
    "\n",
    "print(midA, midB)\n",
    "while nums1[midA] >= nums2[midB]:\n",
    "    if nums1[midA] == nums2[midB]:\n",
    "        break\n",
    "    if nums1[midA] < nums2[midB-1]:\n",
    "        midA += 1\n",
    "    if nums1[midA-1] > nums2[midB]:\n",
    "        midA -= 1\n",
    "\n",
    "mid = (max(nums1[midA-1], nums2[midB-1]) + min(nums1[midA], nums2[midB])) / 2\n",
    "\n",
    "print(mid)\n",
    "\n",
    "\n"
   ]
  }
 ],
 "metadata": {
  "interpreter": {
   "hash": "aee8b7b246df8f9039afb4144a1f6fd8d2ca17a180786b69acc140d282b71a49"
  },
  "kernelspec": {
   "display_name": "Python 3.9.10 64-bit",
   "language": "python",
   "name": "python3"
  },
  "language_info": {
   "codemirror_mode": {
    "name": "ipython",
    "version": 3
   },
   "file_extension": ".py",
   "mimetype": "text/x-python",
   "name": "python",
   "nbconvert_exporter": "python",
   "pygments_lexer": "ipython3",
   "version": "3.9.10"
  },
  "orig_nbformat": 4
 },
 "nbformat": 4,
 "nbformat_minor": 2
}
