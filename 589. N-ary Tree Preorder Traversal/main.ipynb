{
 "cells": [
  {
   "cell_type": "code",
   "execution_count": 11,
   "metadata": {},
   "outputs": [
    {
     "name": "stdout",
     "output_type": "stream",
     "text": [
      "1\n",
      "None\n",
      "2\n",
      "4\n",
      "None\n",
      "3\n",
      "None\n"
     ]
    }
   ],
   "source": [
    "class Node : \n",
    "\n",
    "    # Utility function to create a new tree node \n",
    "    def __init__(self ,key): \n",
    "        self.key = key \n",
    "        self.child = [] \n",
    "\n",
    "def printNodeLevelWise(root): \n",
    "    if root is None: \n",
    "        return\n",
    "\n",
    "    queue = [] \n",
    "    queue.append(root) \n",
    "\n",
    "    while(len(queue) >0): \n",
    "\n",
    "        n = len(queue) \n",
    "        while(n > 0) : \n",
    "\n",
    "            # Dequeue an item from queue and print it \n",
    "            p = queue[0] \n",
    "            queue.pop(0) \n",
    "            print (p.key,) \n",
    "\n",
    "            # Enqueue all children of the dequeued item \n",
    "            for index, value in enumerate(p.child): \n",
    "                queue.append(value) \n",
    "\n",
    "            n -= 1\n",
    "        print (None)\n",
    "'''\n",
    "   1\n",
    " / | \n",
    "2  4\n",
    "|\n",
    "3\n",
    "'''\n",
    "root = Node(1) \n",
    "root.child.append(Node(2)) \n",
    "root.child.append(Node(4)) \n",
    "root.child[0].child.append(Node(3)) \n",
    "printNodeLevelWise(root) "
   ]
  },
  {
   "cell_type": "code",
   "execution_count": 16,
   "metadata": {},
   "outputs": [],
   "source": [
    "from ast import Not\n",
    "\n",
    "\n",
    "stack = []\n",
    "ans = []\n",
    "\n",
    "def preorder(root):\n",
    "    ans = []\n",
    "    if not root:\n",
    "        return ans\n",
    "    ans.append(root.key)\n",
    "    for child in root.child:\n",
    "        ans.extend(preorder(child))\n",
    "    return ans"
   ]
  },
  {
   "cell_type": "code",
   "execution_count": 17,
   "metadata": {},
   "outputs": [
    {
     "data": {
      "text/plain": [
       "[1, 2, 3, 4]"
      ]
     },
     "execution_count": 17,
     "metadata": {},
     "output_type": "execute_result"
    }
   ],
   "source": [
    "preorder(root)"
   ]
  },
  {
   "cell_type": "code",
   "execution_count": 22,
   "metadata": {},
   "outputs": [
    {
     "ename": "AttributeError",
     "evalue": "'list' object has no attribute 'root'",
     "output_type": "error",
     "traceback": [
      "\u001b[0;31m---------------------------------------------------------------------------\u001b[0m",
      "\u001b[0;31mAttributeError\u001b[0m                            Traceback (most recent call last)",
      "\u001b[1;32m/Users/tairong/Desktop/Code/LeetCode/589. N-ary Tree Preorder Traversal/main.ipynb Cell 4'\u001b[0m in \u001b[0;36m<cell line: 1>\u001b[0;34m()\u001b[0m\n\u001b[0;32m----> <a href='vscode-notebook-cell:/Users/tairong/Desktop/Code/LeetCode/589.%20N-ary%20Tree%20Preorder%20Traversal/main.ipynb#ch0000003?line=0'>1</a>\u001b[0m root\u001b[39m.\u001b[39;49mchild\u001b[39m.\u001b[39;49mroot\n",
      "\u001b[0;31mAttributeError\u001b[0m: 'list' object has no attribute 'root'"
     ]
    }
   ],
   "source": [
    "root.child\n"
   ]
  }
 ],
 "metadata": {
  "kernelspec": {
   "display_name": "Python 3.9.10 64-bit",
   "language": "python",
   "name": "python3"
  },
  "language_info": {
   "codemirror_mode": {
    "name": "ipython",
    "version": 3
   },
   "file_extension": ".py",
   "mimetype": "text/x-python",
   "name": "python",
   "nbconvert_exporter": "python",
   "pygments_lexer": "ipython3",
   "version": "3.9.13"
  },
  "orig_nbformat": 4,
  "vscode": {
   "interpreter": {
    "hash": "aee8b7b246df8f9039afb4144a1f6fd8d2ca17a180786b69acc140d282b71a49"
   }
  }
 },
 "nbformat": 4,
 "nbformat_minor": 2
}
