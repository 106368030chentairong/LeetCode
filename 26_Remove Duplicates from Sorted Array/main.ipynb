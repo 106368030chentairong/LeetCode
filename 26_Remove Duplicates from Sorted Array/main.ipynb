{
 "cells": [
  {
   "cell_type": "code",
   "execution_count": 9,
   "metadata": {},
   "outputs": [
    {
     "name": "stdout",
     "output_type": "stream",
     "text": [
      "1\n",
      "2\n",
      "3\n",
      "4\n",
      "5\n",
      "6\n",
      "[0, 1, 2, 1, 1, 2, 2]\n"
     ]
    }
   ],
   "source": [
    "nums = [0,0,1,1,1,2,2]\n",
    "j = 1\n",
    "for index in range(1, len(nums)):\n",
    "    print(index)\n",
    "    if nums[index-1] != nums[index]:\n",
    "        nums[j] = nums[index]\n",
    "        j += 1 \n",
    "print(nums)"
   ]
  }
 ],
 "metadata": {
  "interpreter": {
   "hash": "aee8b7b246df8f9039afb4144a1f6fd8d2ca17a180786b69acc140d282b71a49"
  },
  "kernelspec": {
   "display_name": "Python 3.9.10 64-bit",
   "language": "python",
   "name": "python3"
  },
  "language_info": {
   "codemirror_mode": {
    "name": "ipython",
    "version": 3
   },
   "file_extension": ".py",
   "mimetype": "text/x-python",
   "name": "python",
   "nbconvert_exporter": "python",
   "pygments_lexer": "ipython3",
   "version": "3.9.10"
  },
  "orig_nbformat": 4
 },
 "nbformat": 4,
 "nbformat_minor": 2
}
