{
 "cells": [
  {
   "cell_type": "code",
   "execution_count": 4,
   "metadata": {},
   "outputs": [],
   "source": [
    "class ListNode(object):\n",
    "    def __init__(self, val=0, next=None):\n",
    "        self.val = val\n",
    "        self.next = next"
   ]
  },
  {
   "cell_type": "code",
   "execution_count": 2,
   "metadata": {},
   "outputs": [],
   "source": [
    "def list2node(data):\n",
    "    head = ListNode(data[0])\n",
    "    tail = head\n",
    "    e = 1\n",
    "    while e < len(data):\n",
    "        tail.next = ListNode(data[e])\n",
    "        tail = tail.next\n",
    "        e+=1\n",
    "    return head"
   ]
  },
  {
   "cell_type": "code",
   "execution_count": 24,
   "metadata": {},
   "outputs": [],
   "source": [
    "l1 = [2,4,3]\n",
    "l2 = [5,6,4]\n",
    "l1 = list2node(l1)\n",
    "l2 = list2node(l2)"
   ]
  },
  {
   "cell_type": "code",
   "execution_count": 28,
   "metadata": {},
   "outputs": [
    {
     "name": "stdout",
     "output_type": "stream",
     "text": [
      "2\n",
      "4\n",
      "3\n"
     ]
    }
   ],
   "source": [
    "# main\n",
    "tmp = l1\n",
    "while tmp.next != None:\n",
    "    print(tmp.val)\n",
    "    tmp = tmp.next\n",
    "print(tmp.val)"
   ]
  },
  {
   "cell_type": "code",
   "execution_count": 101,
   "metadata": {},
   "outputs": [
    {
     "name": "stdout",
     "output_type": "stream",
     "text": [
      "[1, 2]\n"
     ]
    }
   ],
   "source": [
    "l1 = [9]\n",
    "l2 = [2]\n",
    "l1 = list2node(l1)\n",
    "l2 = list2node(l2)\n",
    "ans = []\n",
    "\n",
    "carry_tmp = 0\n",
    "while l1 != None or l2 != None :\n",
    "\n",
    "    if l1 == None :\n",
    "        if l2.val+carry_tmp >= 10:\n",
    "            ans.append((l2.val+carry_tmp)%10)\n",
    "            carry_tmp = 1\n",
    "        else:\n",
    "            ans.append((l2.val+carry_tmp))\n",
    "            carry_tmp = 0\n",
    "        l2 = l2.next\n",
    "    elif l2 == None :\n",
    "        if l1.val+carry_tmp >= 10:\n",
    "            ans.append((l1.val+carry_tmp)%10)\n",
    "            carry_tmp = 1\n",
    "        else:\n",
    "            ans.append((l1.val+carry_tmp))\n",
    "            carry_tmp = 0\n",
    "        l1 = l1.next\n",
    "    else:\n",
    "        if l1.val + l2.val + carry_tmp >= 10:\n",
    "            ans.append(int((l1.val + l2.val + carry_tmp)%10))\n",
    "            carry_tmp = 1\n",
    "        else:\n",
    "            ans.append(((l1.val + l2.val + carry_tmp)))\n",
    "            carry_tmp = 0\n",
    "\n",
    "        if l1.next == None and l2.next == None:\n",
    "            \n",
    "            if (l1.val + l2.val + carry_tmp) >= 10:\n",
    "                ans.append((l1.val + l2.val + carry_tmp)%10)\n",
    "                carry_tmp = 1\n",
    "            else:\n",
    "                ans.append(carry_tmp)\n",
    "                carry_tmp = 0\n",
    "\n",
    "        l1 = l1.next\n",
    "        l2 = l2.next\n",
    "print(ans)\n"
   ]
  },
  {
   "cell_type": "code",
   "execution_count": 113,
   "metadata": {},
   "outputs": [
    {
     "name": "stdout",
     "output_type": "stream",
     "text": [
      "1\n",
      "21\n",
      "321\n",
      "9\n"
     ]
    }
   ],
   "source": [
    "l1 = [1,2,3]\n",
    "l2 = [9]\n",
    "l1 = list2node(l1)\n",
    "l2 = list2node(l2)\n",
    "n1 = 0\n",
    "c1 = 0\n",
    "while l1:\n",
    "    if l1 is None:\n",
    "        break\n",
    "    \n",
    "    n1 += 10**c1*l1.val\n",
    "    print(n1)\n",
    "    c1 += 1\n",
    "    l1 = l1.next\n",
    "\n",
    "n2 = 0\n",
    "c2 = 0\n",
    "while l2:\n",
    "    if l2 is None:\n",
    "        break\n",
    "    \n",
    "    n2 += 10**c2*l2.val\n",
    "    print(n2)\n",
    "    c2 += 1\n",
    "    l2 = l2.next\n",
    "\n",
    "s = n1 + n2\n",
    "s = str(s)\n"
   ]
  },
  {
   "cell_type": "code",
   "execution_count": 122,
   "metadata": {},
   "outputs": [
    {
     "name": "stdout",
     "output_type": "stream",
     "text": [
      "330\n"
     ]
    }
   ],
   "source": [
    "l1 = [1,2,3]\n",
    "l2 = [9]\n",
    "l1 = list2node(l1)\n",
    "l2 = list2node(l2)\n",
    "\n",
    "l1_tmp = 0\n",
    "c1 = 0\n",
    "while l1:\n",
    "    if l1 is None:\n",
    "        break\n",
    "    l1_tmp += 10**c1*l1.val\n",
    "    l1 = l1.next\n",
    "    c1 += 1\n",
    "\n",
    "l2_tmp = 0\n",
    "c1 = 0\n",
    "while l2:\n",
    "    if l2 is None:\n",
    "        break\n",
    "    l2_tmp += 10**c1*l2.val\n",
    "    l2 = l2.next\n",
    "    c1 += 1\n",
    "print(l1_tmp+l2_tmp)"
   ]
  },
  {
   "cell_type": "code",
   "execution_count": 7,
   "metadata": {},
   "outputs": [
    {
     "name": "stdout",
     "output_type": "stream",
     "text": [
      "1 9 0 0 1\n",
      "2 0 1 3 0\n",
      "3 0 0 3 0\n",
      "<__main__.ListNode object at 0x108a93310>\n"
     ]
    }
   ],
   "source": [
    "# 1-2 best ans\n",
    "l1 = [1,2,3]\n",
    "l2 = [9]\n",
    "l1 = list2node(l1)\n",
    "l2 = list2node(l2)\n",
    "dummy=l3=ListNode(0)\n",
    "rem=0\n",
    "while l1 or l2 or rem:\n",
    "    l1curr=l2curr=0\n",
    "    if l1:\n",
    "        l1curr=l1.val\n",
    "        l1=l1.next\n",
    "    if l2:\n",
    "        l2curr=l2.val\n",
    "        l2=l2.next\n",
    "   \n",
    "    sum_=l1curr+l2curr+rem\n",
    "\n",
    "    print(l1curr, l2curr, rem, sum_%10, sum_//10)\n",
    "    val=sum_%10\n",
    "    rem=sum_//10\n",
    "    l3.next=ListNode(val)\n",
    "    l3=l3.next\n",
    "print(dummy.next)"
   ]
  }
 ],
 "metadata": {
  "interpreter": {
   "hash": "aee8b7b246df8f9039afb4144a1f6fd8d2ca17a180786b69acc140d282b71a49"
  },
  "kernelspec": {
   "display_name": "Python 3.9.10 64-bit",
   "language": "python",
   "name": "python3"
  },
  "language_info": {
   "codemirror_mode": {
    "name": "ipython",
    "version": 3
   },
   "file_extension": ".py",
   "mimetype": "text/x-python",
   "name": "python",
   "nbconvert_exporter": "python",
   "pygments_lexer": "ipython3",
   "version": "3.9.10"
  },
  "orig_nbformat": 4
 },
 "nbformat": 4,
 "nbformat_minor": 2
}
