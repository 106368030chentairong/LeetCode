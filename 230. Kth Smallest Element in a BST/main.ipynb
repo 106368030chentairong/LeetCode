{
 "cells": [
  {
   "cell_type": "code",
   "execution_count": 18,
   "metadata": {},
   "outputs": [],
   "source": [
    "class TreeNode(object):\n",
    "    def __init__(self, val=0, left=None, right=None):\n",
    "        self.val=val\n",
    "        self.left=left\n",
    "        self.right=right\n",
    "\n",
    "l2 = TreeNode(val=2, left=TreeNode(val=1))\n",
    "l1 = TreeNode(val=3, left=l2, right=TreeNode(val=4))\n",
    "r1 = TreeNode(val=6)\n",
    "root = TreeNode(val=5, left=l1, right=r1)\n",
    "K = 3"
   ]
  },
  {
   "cell_type": "code",
   "execution_count": 20,
   "metadata": {},
   "outputs": [
    {
     "name": "stdout",
     "output_type": "stream",
     "text": [
      "3\n"
     ]
    }
   ],
   "source": [
    "class Solution(object):\n",
    "   def kthSmallest(self, root, k):\n",
    "        \"\"\"\n",
    "        :type root: Optional[TreeNode]\n",
    "        :type k: int\n",
    "        :rtype: int\n",
    "        \"\"\"\n",
    "        res = []\n",
    "\n",
    "        def inorder(root):\n",
    "            if not root: \n",
    "                return None\n",
    "            inorder(root.left)\n",
    "            res.append(root.val)\n",
    "            inorder(root.right)\n",
    "        inorder(root)\n",
    "        return res[k-1]\n",
    "\n",
    "ans = Solution().kthSmallest(root, K)\n",
    "print(ans)"
   ]
  }
 ],
 "metadata": {
  "kernelspec": {
   "display_name": "Python 3",
   "language": "python",
   "name": "python3"
  },
  "language_info": {
   "codemirror_mode": {
    "name": "ipython",
    "version": 3
   },
   "file_extension": ".py",
   "mimetype": "text/x-python",
   "name": "python",
   "nbconvert_exporter": "python",
   "pygments_lexer": "ipython3",
   "version": "3.8.19"
  }
 },
 "nbformat": 4,
 "nbformat_minor": 2
}
